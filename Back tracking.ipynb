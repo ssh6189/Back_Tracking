{
 "cells": [
  {
   "cell_type": "markdown",
   "metadata": {},
   "source": [
    "<H1>1.</H1>\n",
    "<img src = \"./N_and_M_1.jpg\"> "
   ]
  },
  {
   "cell_type": "code",
   "execution_count": 70,
   "metadata": {},
   "outputs": [
    {
     "name": "stdout",
     "output_type": "stream",
     "text": [
      "4 4\n",
      "1 2 3 4\n",
      "1 2 4 3\n",
      "1 3 2 4\n",
      "1 3 4 2\n",
      "1 4 2 3\n",
      "1 4 3 2\n",
      "2 1 3 4\n",
      "2 1 4 3\n",
      "2 3 1 4\n",
      "2 3 4 1\n",
      "2 4 1 3\n",
      "2 4 3 1\n",
      "3 1 2 4\n",
      "3 1 4 2\n",
      "3 2 1 4\n",
      "3 2 4 1\n",
      "3 4 1 2\n",
      "3 4 2 1\n",
      "4 1 2 3\n",
      "4 1 3 2\n",
      "4 2 1 3\n",
      "4 2 3 1\n",
      "4 3 1 2\n",
      "4 3 2 1\n"
     ]
    }
   ],
   "source": [
    "from itertools import combinations\n",
    "from itertools import permutations\n",
    "\n",
    "N, M = map(int, input().split(\" \"))\n",
    "\n",
    "num = []\n",
    "number = []\n",
    "n = []\n",
    "\n",
    "for i in range(N+1):\n",
    "    num.append(str(i))\n",
    "    \n",
    "del num[0]\n",
    "\n",
    "for j in list(permutations(num, M)):\n",
    "    number.append(j)\n",
    "\n",
    "for s in number:\n",
    "    n.append(' '.join(s))\n",
    "\n",
    "for t in n:\n",
    "    print(t)"
   ]
  },
  {
   "cell_type": "markdown",
   "metadata": {},
   "source": [
    "<H1>2.</H1>\n",
    "<img src = \"./N_and_M_2.jpg\"> "
   ]
  },
  {
   "cell_type": "code",
   "execution_count": 79,
   "metadata": {},
   "outputs": [
    {
     "name": "stdout",
     "output_type": "stream",
     "text": [
      "4 4\n",
      "1 2 3 4\n"
     ]
    }
   ],
   "source": [
    "from itertools import combinations\n",
    "from itertools import permutations\n",
    "\n",
    "N, M = map(int, input().split(\" \"))\n",
    "\n",
    "num = []\n",
    "n = []\n",
    "\n",
    "for i in range(N+1):\n",
    "    num.append(str(i))\n",
    "    \n",
    "del num[0]\n",
    "\n",
    "number = combinations(num, M)\n",
    "\n",
    "for j in number:\n",
    "    n.append(' '.join(j))\n",
    "\n",
    "for k in n:\n",
    "    print(k)"
   ]
  },
  {
   "cell_type": "markdown",
   "metadata": {},
   "source": [
    "<H1>3.</H1>\n",
    "<img src = \"./N_and_M_3.jpg\"> "
   ]
  },
  {
   "cell_type": "code",
   "execution_count": 18,
   "metadata": {},
   "outputs": [
    {
     "name": "stdout",
     "output_type": "stream",
     "text": [
      "3 3\n",
      "1 1 1\n",
      "1 1 2\n",
      "1 1 3\n",
      "1 2 1\n",
      "1 2 2\n",
      "1 2 3\n",
      "1 3 1\n",
      "1 3 2\n",
      "1 3 3\n",
      "2 1 1\n",
      "2 1 2\n",
      "2 1 3\n",
      "2 2 1\n",
      "2 2 2\n",
      "2 2 3\n",
      "2 3 1\n",
      "2 3 2\n",
      "2 3 3\n",
      "3 1 1\n",
      "3 1 2\n",
      "3 1 3\n",
      "3 2 1\n",
      "3 2 2\n",
      "3 2 3\n",
      "3 3 1\n",
      "3 3 2\n",
      "3 3 3\n"
     ]
    }
   ],
   "source": [
    "from itertools import product\n",
    "N, M = map(int,input().split())\n",
    "pro = product(range(1,N+1),repeat=M)\n",
    "for p in pro:\n",
    "    print(' '.join(map(str,p)))"
   ]
  },
  {
   "cell_type": "markdown",
   "metadata": {},
   "source": [
    "<H1>4.</H1>\n",
    "<img src = \"./N_and_M_4.jpg\"> "
   ]
  },
  {
   "cell_type": "code",
   "execution_count": 1,
   "metadata": {},
   "outputs": [
    {
     "name": "stdout",
     "output_type": "stream",
     "text": [
      "3 3\n",
      "1 1 1\n",
      "1 1 2\n",
      "1 1 3\n",
      "1 2 2\n",
      "1 2 3\n",
      "1 3 3\n",
      "2 2 2\n",
      "2 2 3\n",
      "2 3 3\n",
      "3 3 3\n"
     ]
    }
   ],
   "source": [
    "from itertools import combinations\n",
    "from itertools import permutations\n",
    "from itertools import combinations_with_replacement\n",
    "\n",
    "N, M = map(int, input().split(\" \"))\n",
    "\n",
    "num = []\n",
    "number = []\n",
    "n = []\n",
    "\n",
    "for i in range(N+1):\n",
    "    num.append(str(i))\n",
    "    \n",
    "del num[0]\n",
    "\n",
    "for j in list(combinations_with_replacement(num, M)):\n",
    "    number.append(j)\n",
    "\n",
    "for s in number:\n",
    "    n.append(' '.join(s))\n",
    "\n",
    "for t in n:\n",
    "    print(t)"
   ]
  },
  {
   "cell_type": "markdown",
   "metadata": {},
   "source": [
    "<H1>5.</H1>\n",
    "<img src = \"./N_Queen.jpg\"> "
   ]
  },
  {
   "cell_type": "code",
   "execution_count": 11,
   "metadata": {},
   "outputs": [
    {
     "name": "stdout",
     "output_type": "stream",
     "text": [
      "8\n",
      "92\n"
     ]
    }
   ],
   "source": [
    "n = int(input())\n",
    "ans = 0\n",
    "a, b, c = [False]*n, [False]*(2*n-1), [False]*(2*n-1)\n",
    "\n",
    "def solve(i):\n",
    "    global ans\n",
    "    if i == n:\n",
    "        ans = ans + 1\n",
    "        return\n",
    "    for j in range(n):\n",
    "        if not (a[j] or b[i+j] or c[i-j+n-1]):\n",
    "            a[j] = b[i+j] = c[i-j+n-1] = True\n",
    "            solve(i+1)\n",
    "            a[j] = b[i+j] = c[i-j+n-1] = False\n",
    "\n",
    "solve(0)\n",
    "print(ans)"
   ]
  },
  {
   "cell_type": "markdown",
   "metadata": {},
   "source": [
    "<H1>6.</H1>\n",
    "<img src = \"Sdoku1.jpg\">\n",
    "<img src = \"Sdoku2.jpg\">"
   ]
  },
  {
   "cell_type": "code",
   "execution_count": 21,
   "metadata": {},
   "outputs": [
    {
     "name": "stdout",
     "output_type": "stream",
     "text": [
      "0 3 5 4 6 9 2 7 8\n",
      "7 8 2 1 0 5 6 0 9\n",
      "0 6 0 2 7 8 1 3 5\n",
      "3 2 1 0 4 6 8 9 7\n",
      "8 0 4 9 1 3 5 0 6\n",
      "5 9 6 8 2 0 4 1 3\n",
      "9 1 7 6 5 2 0 8 0\n",
      "6 0 3 7 0 1 9 5 2\n",
      "2 5 8 3 9 4 7 6 0\n"
     ]
    }
   ],
   "source": [
    "import numpy as np\n",
    "\n",
    "locate = [[[0, 0], [0, 1], [0, 2], [0, 3], [0, 4], [0, 5], [0, 6], [0, 7], [0, 8]],\n",
    "         [[1, 0], [1, 1], [1, 2], [1, 3], [1, 4], [1, 5], [1, 6], [1, 7], [1, 8]],\n",
    "         [[2, 0], [2, 1], [2, 2], [2, 3], [2, 4], [2, 5], [2, 6], [2, 7], [2, 8]],\n",
    "         [[3, 0], [3, 1], [3, 2], [3, 3], [3, 4], [3, 5], [3, 6], [3, 7], [3, 8]],\n",
    "         [[4, 0], [4, 1], [4, 2], [4, 3], [4, 4], [4, 5], [4, 6], [4, 7], [4, 8]],\n",
    "         [[5, 0], [5, 1], [5, 2], [5, 3], [5, 4], [5, 5], [5, 6], [5, 7], [5, 8]],\n",
    "         [[6, 0], [6, 1], [6, 2], [6, 3], [6, 4], [6, 5], [6, 6], [6, 7], [6, 8]],\n",
    "         [[7, 0], [7, 1], [7, 2], [7, 3], [7, 4], [7, 5], [7, 6], [7, 7], [7, 8]],\n",
    "         [[8, 0], [8, 1], [8, 2], [8, 3], [8, 4], [8, 5], [8, 6], [8, 7], [8, 8]]]\n",
    "\n",
    "square = [[[0], [0], [0], [1], [1], [1], [2], [2], [2]],\n",
    "          [[0], [0], [0], [1], [1], [1], [2], [2], [2]],\n",
    "          [[0], [0], [0], [1], [1], [1], [2], [2], [2]],\n",
    "          [[3], [3], [3], [4], [4], [4], [5], [5], [5]],\n",
    "          [[3], [3], [3], [4], [4], [4], [5], [5], [5]],\n",
    "          [[3], [3], [3], [4], [4], [4], [5], [5], [5]],\n",
    "          [[6], [6], [6], [7], [7], [7], [8], [8], [8]],\n",
    "          [[6], [6], [6], [7], [7], [7], [8], [8], [8]],\n",
    "          [[6], [6], [6], [7], [7], [7], [8], [8], [8]]]\n",
    "\n",
    "for x in range(9):\n",
    "    a, b, c, d, e, f, g, h, i = map(int, input().split(\" \"))\n",
    "    s = [a, b, c, d, e, f, g, h, i]\n",
    "    \n",
    "    for y in range(9):\n",
    "        locate[x][y].append(s[y])\n",
    "        \n",
    "    for w in range(9):\n",
    "        square[x][w].append(s[w])"
   ]
  },
  {
   "cell_type": "code",
   "execution_count": 22,
   "metadata": {},
   "outputs": [
    {
     "name": "stdout",
     "output_type": "stream",
     "text": [
      "[[[0, 0, 0], [0, 1, 3], [0, 2, 5], [0, 3, 4], [0, 4, 6], [0, 5, 9], [0, 6, 2], [0, 7, 7], [0, 8, 8]], [[1, 0, 7], [1, 1, 8], [1, 2, 2], [1, 3, 1], [1, 4, 0], [1, 5, 5], [1, 6, 6], [1, 7, 0], [1, 8, 9]], [[2, 0, 0], [2, 1, 6], [2, 2, 0], [2, 3, 2], [2, 4, 7], [2, 5, 8], [2, 6, 1], [2, 7, 3], [2, 8, 5]], [[3, 0, 3], [3, 1, 2], [3, 2, 1], [3, 3, 0], [3, 4, 4], [3, 5, 6], [3, 6, 8], [3, 7, 9], [3, 8, 7]], [[4, 0, 8], [4, 1, 0], [4, 2, 4], [4, 3, 9], [4, 4, 1], [4, 5, 3], [4, 6, 5], [4, 7, 0], [4, 8, 6]], [[5, 0, 5], [5, 1, 9], [5, 2, 6], [5, 3, 8], [5, 4, 2], [5, 5, 0], [5, 6, 4], [5, 7, 1], [5, 8, 3]], [[6, 0, 9], [6, 1, 1], [6, 2, 7], [6, 3, 6], [6, 4, 5], [6, 5, 2], [6, 6, 0], [6, 7, 8], [6, 8, 0]], [[7, 0, 6], [7, 1, 0], [7, 2, 3], [7, 3, 7], [7, 4, 0], [7, 5, 1], [7, 6, 9], [7, 7, 5], [7, 8, 2]], [[8, 0, 2], [8, 1, 5], [8, 2, 8], [8, 3, 3], [8, 4, 9], [8, 5, 4], [8, 6, 7], [8, 7, 6], [8, 8, 0]]]\n"
     ]
    }
   ],
   "source": [
    "print(locate)"
   ]
  },
  {
   "cell_type": "code",
   "execution_count": 23,
   "metadata": {},
   "outputs": [
    {
     "name": "stdout",
     "output_type": "stream",
     "text": [
      "[[[0, 0], [0, 3], [0, 5], [1, 4], [1, 6], [1, 9], [2, 2], [2, 7], [2, 8]], [[0, 7], [0, 8], [0, 2], [1, 1], [1, 0], [1, 5], [2, 6], [2, 0], [2, 9]], [[0, 0], [0, 6], [0, 0], [1, 2], [1, 7], [1, 8], [2, 1], [2, 3], [2, 5]], [[3, 3], [3, 2], [3, 1], [4, 0], [4, 4], [4, 6], [5, 8], [5, 9], [5, 7]], [[3, 8], [3, 0], [3, 4], [4, 9], [4, 1], [4, 3], [5, 5], [5, 0], [5, 6]], [[3, 5], [3, 9], [3, 6], [4, 8], [4, 2], [4, 0], [5, 4], [5, 1], [5, 3]], [[6, 9], [6, 1], [6, 7], [7, 6], [7, 5], [7, 2], [8, 0], [8, 8], [8, 0]], [[6, 6], [6, 0], [6, 3], [7, 7], [7, 0], [7, 1], [8, 9], [8, 5], [8, 2]], [[6, 2], [6, 5], [6, 8], [7, 3], [7, 9], [7, 4], [8, 7], [8, 6], [8, 0]]]\n"
     ]
    }
   ],
   "source": [
    "print(square)"
   ]
  },
  {
   "cell_type": "code",
   "execution_count": 31,
   "metadata": {},
   "outputs": [
    {
     "name": "stdout",
     "output_type": "stream",
     "text": [
      "0\n",
      "[0, 1, 2, 3, 4, 5, 6, 7, 8, 9]\n"
     ]
    }
   ],
   "source": [
    "print(square[0][0][0])\n",
    "\n",
    "sw = []\n",
    "\n",
    "for sq in range(9):\n",
    "    for xa in range(9):\n",
    "        for ya in range(9):\n",
    "            if(square[xa][ya][0]==sq):\n",
    "                sw.append(square[xa][ya][1])\n",
    "\n",
    "vw = set(sw)\n",
    "\n",
    "sw = list(vw)\n",
    "            \n",
    "print(sw)\n",
    "            "
   ]
  },
  {
   "cell_type": "code",
   "execution_count": 33,
   "metadata": {},
   "outputs": [
    {
     "name": "stdout",
     "output_type": "stream",
     "text": [
      "[0, 2, 3, 4, 5, 6, 7, 8, 9]\n",
      "[0, 2, 3, 5, 6, 7, 8, 9]\n",
      "[0, 1, 2, 3, 4, 5, 6, 7, 8, 9]\n",
      "[0, 1, 2, 3, 4, 5, 6, 7, 8, 9]\n",
      "[0, 1, 2, 3, 4, 5, 6, 7, 8, 9]\n",
      "[0, 1, 2, 3, 4, 5, 6, 7, 8, 9]\n",
      "[0, 1, 2, 3, 4, 5, 6, 7, 8, 9]\n",
      "[0, 1, 2, 3, 4, 5, 6, 7, 8, 9]\n",
      "[0, 1, 2, 3, 4, 5, 6, 7, 8, 9]\n",
      "[0, 1, 2, 3, 4, 5, 6, 7, 8, 9]\n",
      "[0, 1, 2, 3, 4, 5, 6, 7, 8, 9]\n",
      "[0, 1, 2, 3, 4, 5, 6, 7, 8, 9]\n",
      "[0, 1, 2, 3, 4, 5, 6, 7, 8, 9]\n",
      "[0, 1, 2, 3, 4, 5, 6, 7, 8, 9]\n",
      "[0, 1, 2, 3, 4, 5, 6, 7, 8, 9]\n",
      "[0, 1, 2, 3, 4, 5, 6, 7, 8, 9]\n",
      "[0, 1, 2, 3, 4, 5, 6, 7, 8, 9]\n",
      "[0, 1, 2, 3, 4, 5, 6, 7, 8, 9]\n",
      "[0, 1, 2, 3, 4, 5, 6, 7, 8, 9]\n",
      "[0, 1, 2, 3, 4, 5, 6, 7, 8, 9]\n",
      "[0, 1, 2, 3, 4, 5, 6, 7, 8, 9]\n",
      "[0, 1, 2, 3, 4, 5, 6, 7, 8, 9]\n",
      "[0, 1, 2, 3, 4, 5, 6, 7, 8, 9]\n",
      "[0, 1, 2, 3, 4, 5, 6, 7, 8, 9]\n",
      "[0, 1, 2, 3, 4, 5, 6, 7, 8, 9]\n",
      "[0, 1, 2, 3, 4, 5, 6, 7, 8, 9]\n",
      "[0, 1, 2, 3, 4, 5, 6, 7, 8, 9]\n",
      "[0, 1, 2, 3, 4, 5, 6, 7, 8, 9]\n",
      "[0, 1, 2, 3, 4, 5, 6, 7, 8, 9]\n",
      "[0, 1, 2, 3, 4, 5, 6, 7, 8, 9]\n",
      "[0, 1, 2, 3, 4, 5, 6, 7, 8, 9]\n",
      "[0, 1, 2, 3, 4, 5, 6, 7, 8, 9]\n",
      "[0, 1, 2, 3, 4, 5, 6, 7, 8, 9]\n",
      "[0, 1, 2, 3, 4, 5, 6, 7, 8, 9]\n",
      "[0, 1, 2, 3, 4, 5, 6, 7, 8, 9]\n",
      "[0, 1, 2, 3, 4, 5, 6, 7, 8, 9]\n",
      "[0, 1, 2, 3, 4, 5, 6, 7, 8, 9]\n",
      "[0, 1, 2, 3, 4, 5, 6, 7, 8, 9]\n",
      "[0, 1, 2, 3, 4, 5, 6, 7, 8, 9]\n",
      "[0, 1, 2, 3, 4, 5, 6, 7, 8, 9]\n",
      "[0, 1, 2, 3, 4, 5, 6, 7, 8, 9]\n",
      "[0, 1, 2, 3, 4, 5, 6, 7, 8, 9]\n"
     ]
    }
   ],
   "source": [
    "sx = []\n",
    "sy = []\n",
    "\n",
    "answer = 0\n",
    "\n",
    "for xr in range(9):\n",
    "    for yr in range(9):\n",
    "        if(locate[xr][yr][2]==0):\n",
    "            xp = locate[xr][yr][0]\n",
    "            yp = locate[xr][yr][1]\n",
    "            sp = square[xr][yr][0]\n",
    "            \n",
    "            for xm in range(9):\n",
    "                for ym in range(9):\n",
    "                    if(locate[xm][ym][0]==xp):\n",
    "                        sx.append(locate[xm][ym][2])\n",
    "                    elif(locate[xm][ym][1]==yp):\n",
    "                        sy.append(locate[xm][ym][2])\n",
    "                    elif(square[xm][ym][0]==sp):\n",
    "                        sw.append(square[xa][ya][1])\n",
    "                    \n",
    "            vx = set(sx)\n",
    "            vy = set(sy)\n",
    "            vw = set(sw)\n",
    "\n",
    "            sx = list(vx)\n",
    "            sy = list(vy)\n",
    "            sw = list(vw)\n",
    "            \n",
    "            print(sx)\n",
    "            print(sy)\n",
    "            print(sw)\n",
    "            \n",
    "            for ans in range(1, 10, 1):\n",
    "                if((ans not in sx) and (ans not in sy) and (ans not in sw)):\n",
    "                    answer = ans\n",
    "                    print(answer)\n",
    "\n",
    "            #print(sx)\n",
    "            #print(sy)\n",
    "            #print(sw)"
   ]
  },
  {
   "cell_type": "code",
   "execution_count": 26,
   "metadata": {},
   "outputs": [
    {
     "name": "stdout",
     "output_type": "stream",
     "text": [
      "0\n"
     ]
    }
   ],
   "source": [
    "for ans in range(1, 10, 1):\n",
    "    if((ans not in sx) and (ans not in sy) and (ans not in sw)):\n",
    "        answer = ans\n",
    "        \n",
    "print(answer)"
   ]
  },
  {
   "cell_type": "code",
   "execution_count": 76,
   "metadata": {},
   "outputs": [
    {
     "name": "stdout",
     "output_type": "stream",
     "text": [
      "[0, 1, 2, 3, 4, 5, 6, 7, 8]\n",
      "[1, 2, 3]\n"
     ]
    }
   ],
   "source": [
    "print(sx)\n",
    "print(sy)"
   ]
  },
  {
   "cell_type": "code",
   "execution_count": 80,
   "metadata": {},
   "outputs": [
    {
     "name": "stdout",
     "output_type": "stream",
     "text": [
      "1\n",
      "2\n",
      "3\n",
      "4\n",
      "5\n",
      "6\n",
      "7\n",
      "8\n",
      "9\n"
     ]
    }
   ],
   "source": [
    "for ans in range(1, 10, 1):\n",
    "    print(ans)"
   ]
  }
 ],
 "metadata": {
  "kernelspec": {
   "display_name": "Python 3",
   "language": "python",
   "name": "python3"
  }
 },
 "nbformat": 4,
 "nbformat_minor": 4
}
