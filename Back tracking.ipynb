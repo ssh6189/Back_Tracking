{
 "cells": [
  {
   "cell_type": "markdown",
   "metadata": {},
   "source": [
    "<H1>1.</H1>\n",
    "<img src = \"./N_and_M_1.jpg\"> "
   ]
  },
  {
   "cell_type": "code",
   "execution_count": 70,
   "metadata": {},
   "outputs": [
    {
     "name": "stdout",
     "output_type": "stream",
     "text": [
      "4 4\n",
      "1 2 3 4\n",
      "1 2 4 3\n",
      "1 3 2 4\n",
      "1 3 4 2\n",
      "1 4 2 3\n",
      "1 4 3 2\n",
      "2 1 3 4\n",
      "2 1 4 3\n",
      "2 3 1 4\n",
      "2 3 4 1\n",
      "2 4 1 3\n",
      "2 4 3 1\n",
      "3 1 2 4\n",
      "3 1 4 2\n",
      "3 2 1 4\n",
      "3 2 4 1\n",
      "3 4 1 2\n",
      "3 4 2 1\n",
      "4 1 2 3\n",
      "4 1 3 2\n",
      "4 2 1 3\n",
      "4 2 3 1\n",
      "4 3 1 2\n",
      "4 3 2 1\n"
     ]
    }
   ],
   "source": [
    "from itertools import combinations\n",
    "from itertools import permutations\n",
    "\n",
    "N, M = map(int, input().split(\" \"))\n",
    "\n",
    "num = []\n",
    "number = []\n",
    "n = []\n",
    "\n",
    "for i in range(N+1):\n",
    "    num.append(str(i))\n",
    "    \n",
    "del num[0]\n",
    "\n",
    "for j in list(permutations(num, M)):\n",
    "    number.append(j)\n",
    "\n",
    "for s in number:\n",
    "    n.append(' '.join(s))\n",
    "\n",
    "for t in n:\n",
    "    print(t)"
   ]
  },
  {
   "cell_type": "markdown",
   "metadata": {},
   "source": [
    "<H1>2.</H1>\n",
    "<img src = \"./N_and_M_2.jpg\"> "
   ]
  },
  {
   "cell_type": "code",
   "execution_count": 79,
   "metadata": {},
   "outputs": [
    {
     "name": "stdout",
     "output_type": "stream",
     "text": [
      "4 4\n",
      "1 2 3 4\n"
     ]
    }
   ],
   "source": [
    "from itertools import combinations\n",
    "from itertools import permutations\n",
    "\n",
    "N, M = map(int, input().split(\" \"))\n",
    "\n",
    "num = []\n",
    "n = []\n",
    "\n",
    "for i in range(N+1):\n",
    "    num.append(str(i))\n",
    "    \n",
    "del num[0]\n",
    "\n",
    "number = combinations(num, M)\n",
    "\n",
    "for j in number:\n",
    "    n.append(' '.join(j))\n",
    "\n",
    "for k in n:\n",
    "    print(k)"
   ]
  },
  {
   "cell_type": "markdown",
   "metadata": {},
   "source": [
    "<H1>3.</H1>\n",
    "<img src = \"./N_and_M_3.jpg\"> "
   ]
  },
  {
   "cell_type": "code",
   "execution_count": 18,
   "metadata": {},
   "outputs": [
    {
     "name": "stdout",
     "output_type": "stream",
     "text": [
      "3 3\n",
      "1 1 1\n",
      "1 1 2\n",
      "1 1 3\n",
      "1 2 1\n",
      "1 2 2\n",
      "1 2 3\n",
      "1 3 1\n",
      "1 3 2\n",
      "1 3 3\n",
      "2 1 1\n",
      "2 1 2\n",
      "2 1 3\n",
      "2 2 1\n",
      "2 2 2\n",
      "2 2 3\n",
      "2 3 1\n",
      "2 3 2\n",
      "2 3 3\n",
      "3 1 1\n",
      "3 1 2\n",
      "3 1 3\n",
      "3 2 1\n",
      "3 2 2\n",
      "3 2 3\n",
      "3 3 1\n",
      "3 3 2\n",
      "3 3 3\n"
     ]
    }
   ],
   "source": [
    "from itertools import product\n",
    "N, M = map(int,input().split())\n",
    "pro = product(range(1,N+1),repeat=M)\n",
    "for p in pro:\n",
    "    print(' '.join(map(str,p)))"
   ]
  },
  {
   "cell_type": "markdown",
   "metadata": {},
   "source": [
    "<H1>4.</H1>\n",
    "<img src = \"./N_and_M_4.jpg\"> "
   ]
  },
  {
   "cell_type": "code",
   "execution_count": 1,
   "metadata": {},
   "outputs": [
    {
     "name": "stdout",
     "output_type": "stream",
     "text": [
      "3 3\n",
      "1 1 1\n",
      "1 1 2\n",
      "1 1 3\n",
      "1 2 2\n",
      "1 2 3\n",
      "1 3 3\n",
      "2 2 2\n",
      "2 2 3\n",
      "2 3 3\n",
      "3 3 3\n"
     ]
    }
   ],
   "source": [
    "from itertools import combinations\n",
    "from itertools import permutations\n",
    "from itertools import combinations_with_replacement\n",
    "\n",
    "N, M = map(int, input().split(\" \"))\n",
    "\n",
    "num = []\n",
    "number = []\n",
    "n = []\n",
    "\n",
    "for i in range(N+1):\n",
    "    num.append(str(i))\n",
    "    \n",
    "del num[0]\n",
    "\n",
    "for j in list(combinations_with_replacement(num, M)):\n",
    "    number.append(j)\n",
    "\n",
    "for s in number:\n",
    "    n.append(' '.join(s))\n",
    "\n",
    "for t in n:\n",
    "    print(t)"
   ]
  },
  {
   "cell_type": "markdown",
   "metadata": {},
   "source": [
    "<H1>5.</H1>\n",
    "<img src = \"./N_Queen.jpg\"> "
   ]
  },
  {
   "cell_type": "code",
   "execution_count": 11,
   "metadata": {},
   "outputs": [
    {
     "name": "stdout",
     "output_type": "stream",
     "text": [
      "8\n",
      "92\n"
     ]
    }
   ],
   "source": [
    "n = int(input())\n",
    "ans = 0\n",
    "a, b, c = [False]*n, [False]*(2*n-1), [False]*(2*n-1)\n",
    "\n",
    "def solve(i):\n",
    "    global ans\n",
    "    if i == n:\n",
    "        ans = ans + 1\n",
    "        return\n",
    "    for j in range(n):\n",
    "        if not (a[j] or b[i+j] or c[i-j+n-1]):\n",
    "            a[j] = b[i+j] = c[i-j+n-1] = True\n",
    "            solve(i+1)\n",
    "            a[j] = b[i+j] = c[i-j+n-1] = False\n",
    "\n",
    "solve(0)\n",
    "print(ans)"
   ]
  },
  {
   "cell_type": "markdown",
   "metadata": {},
   "source": [
    "<H1>6.</H1>\n",
    "<img src = \"Sdoku1.jpg\">\n",
    "<img src = \"Sdoku2.jpg\">"
   ]
  },
  {
   "cell_type": "code",
   "execution_count": 71,
   "metadata": {},
   "outputs": [
    {
     "name": "stdout",
     "output_type": "stream",
     "text": [
      "0 3 5 4 6 9 2 7 8\n",
      "7 8 2 1 0 5 6 0 9\n",
      "0 6 0 2 7 8 1 3 5\n",
      "3 2 1 0 4 6 8 9 7\n",
      "8 0 4 9 1 3 5 0 6\n",
      "5 9 6 8 2 0 4 1 3\n",
      "9 1 7 6 5 2 0 8 0\n",
      "6 0 3 7 0 1 9 5 2\n",
      "2 5 8 3 9 4 7 6 0\n",
      "-----------------\n",
      "1 3 5 4 6 9 2 7 8\n",
      "7 8 2 1 3 5 6 4 9\n",
      "4 6 9 2 7 8 1 3 5\n",
      "3 2 1 5 4 6 8 9 7\n",
      "8 7 4 9 1 3 5 2 6\n",
      "5 9 6 8 2 7 4 1 3\n",
      "9 1 7 6 5 2 3 8 4\n",
      "6 4 3 7 8 1 9 5 2\n",
      "2 5 8 3 9 4 7 6 1\n"
     ]
    }
   ],
   "source": [
    "import numpy as np\n",
    "\n",
    "#스도쿠 공간 인덱스 부여\n",
    "locate = [[[0, 0, 0], [0, 1, 0], [0, 2, 0], [0, 3, 1], [0, 4, 1], [0, 5, 1], [0, 6, 2], [0, 7, 2], [0, 8, 2]],\n",
    "         [[1, 0, 0], [1, 1, 0], [1, 2, 0], [1, 3, 1], [1, 4, 1], [1, 5, 1], [1, 6, 2], [1, 7, 2], [1, 8, 2]],\n",
    "         [[2, 0, 0], [2, 1, 0], [2, 2, 0], [2, 3, 1], [2, 4, 1], [2, 5, 1], [2, 6, 2], [2, 7, 2], [2, 8, 2]],\n",
    "         [[3, 0, 3], [3, 1, 3], [3, 2, 3], [3, 3, 4], [3, 4, 4], [3, 5, 4], [3, 6, 5], [3, 7, 5], [3, 8, 5]],\n",
    "         [[4, 0, 3], [4, 1, 3], [4, 2, 3], [4, 3, 4], [4, 4, 4], [4, 5, 4], [4, 6, 5], [4, 7, 5], [4, 8, 5]],\n",
    "         [[5, 0, 3], [5, 1, 3], [5, 2, 3], [5, 3, 4], [5, 4, 4], [5, 5, 4], [5, 6, 5], [5, 7, 5], [5, 8, 5]],\n",
    "         [[6, 0, 6], [6, 1, 6], [6, 2, 6], [6, 3, 7], [6, 4, 7], [6, 5, 7], [6, 6, 8], [6, 7, 8], [6, 8, 8]],\n",
    "         [[7, 0, 6], [7, 1, 6], [7, 2, 6], [7, 3, 7], [7, 4, 7], [7, 5, 7], [7, 6, 8], [7, 7, 8], [7, 8, 8]],\n",
    "         [[8, 0, 6], [8, 1, 6], [8, 2, 6], [8, 3, 7], [8, 4, 7], [8, 5, 7], [8, 6, 8], [8, 7, 8], [8, 8, 8]]]\n",
    "\n",
    "#입력값\n",
    "for x in range(9):\n",
    "    a, b, c, d, e, f, g, h, i = map(int, input().split(\" \"))\n",
    "    s = [a, b, c, d, e, f, g, h, i]\n",
    "    \n",
    "    for y in range(9):\n",
    "        locate[x][y].append(s[y])\n",
    "\n",
    "#정답 set\n",
    "sdoku = [1, 2, 3, 4, 5, 6, 7, 8, 9]\n",
    "\n",
    "l0 = \"\"\n",
    "l1 = \"\"\n",
    "l2 = \"\"\n",
    "l3 = \"\"\n",
    "l4 = \"\"\n",
    "l5 = \"\"\n",
    "l6 = \"\"\n",
    "l7 = \"\"\n",
    "l8 = \"\"\n",
    "\n",
    "answer = 0\n",
    "\n",
    "for xr in range(9):\n",
    "    for yr in range(9):\n",
    "        sx = []\n",
    "        sy = []\n",
    "        sw = []\n",
    "\n",
    "        if(locate[xr][yr][3]==0):\n",
    "            xp = locate[xr][yr][0]\n",
    "            yp = locate[xr][yr][1]\n",
    "            sp = locate[xr][yr][2]\n",
    "            #같은 행에 있는 수의 집합 저장\n",
    "            for xm in range(9):\n",
    "                for ym in range(9):\n",
    "                    if(locate[xm][ym][0]==xp):\n",
    "                        sx.append(locate[xm][ym][3])\n",
    "            #같은 열에 있는 수의 집합 저장\n",
    "            for xm in range(9):\n",
    "                for ym in range(9):\n",
    "                    if(locate[xm][ym][1]==yp):\n",
    "                        sy.append(locate[xm][ym][3])\n",
    "            #같은 정사각형에 있는 수의 집합 저장\n",
    "            for xm in range(9):\n",
    "                for ym in range(9):\n",
    "                    if(locate[xm][ym][2]==sp):\n",
    "                        sw.append(locate[xm][ym][3])\n",
    "            \n",
    "            #집합으로 만들기\n",
    "            vx = set(sx)\n",
    "            vy = set(sy)\n",
    "            vw = set(sw)\n",
    "\n",
    "            sx = list(vx)\n",
    "            sy = list(vy)\n",
    "            sw = list(vw)\n",
    "            \n",
    "            #같은 행, 같은 열, 같은 정사각형 내부에 없는 수를 답으로 정한다.\n",
    "            for ans in sdoku:\n",
    "                if((ans not in sx) and (ans not in sy) and (ans not in sw)):\n",
    "                    locate[xp][yp][3] = ans\n",
    "\n",
    "#출력\n",
    "print(\"-----------------\")\n",
    "sdoku_answer = [l0, l1, l2, l3, l4, l5, l6, l7, l8]\n",
    "\n",
    "for rx in range(9):\n",
    "    for ry in range(9):\n",
    "        sdoku_answer[rx] = sdoku_answer[rx] + str(locate[rx][ry][3])\n",
    "    print(\" \".join(sdoku_answer[rx]))"
   ]
  }
 ],
 "metadata": {
  "kernelspec": {
   "display_name": "Python 3",
   "language": "python",
   "name": "python3"
  },
  "language_info": {
   "codemirror_mode": {
    "name": "ipython",
    "version": 3
   },
   "file_extension": ".py",
   "mimetype": "text/x-python",
   "name": "python",
   "nbconvert_exporter": "python",
   "pygments_lexer": "ipython3",
   "version": "3.7.4"
  }
 },
 "nbformat": 4,
 "nbformat_minor": 4
}
