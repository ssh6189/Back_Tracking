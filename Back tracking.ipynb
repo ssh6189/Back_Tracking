{
 "cells": [
  {
   "cell_type": "markdown",
   "metadata": {},
   "source": [
    "<H1>1.</H1>\n",
    "<img src = \"./N_and_M_1.jpg\"> "
   ]
  },
  {
   "cell_type": "code",
   "execution_count": 70,
   "metadata": {},
   "outputs": [
    {
     "name": "stdout",
     "output_type": "stream",
     "text": [
      "4 4\n",
      "1 2 3 4\n",
      "1 2 4 3\n",
      "1 3 2 4\n",
      "1 3 4 2\n",
      "1 4 2 3\n",
      "1 4 3 2\n",
      "2 1 3 4\n",
      "2 1 4 3\n",
      "2 3 1 4\n",
      "2 3 4 1\n",
      "2 4 1 3\n",
      "2 4 3 1\n",
      "3 1 2 4\n",
      "3 1 4 2\n",
      "3 2 1 4\n",
      "3 2 4 1\n",
      "3 4 1 2\n",
      "3 4 2 1\n",
      "4 1 2 3\n",
      "4 1 3 2\n",
      "4 2 1 3\n",
      "4 2 3 1\n",
      "4 3 1 2\n",
      "4 3 2 1\n"
     ]
    }
   ],
   "source": [
    "from itertools import combinations\n",
    "from itertools import permutations\n",
    "\n",
    "N, M = map(int, input().split(\" \"))\n",
    "\n",
    "num = []\n",
    "number = []\n",
    "n = []\n",
    "\n",
    "for i in range(N+1):\n",
    "    num.append(str(i))\n",
    "    \n",
    "del num[0]\n",
    "\n",
    "for j in list(permutations(num, M)):\n",
    "    number.append(j)\n",
    "\n",
    "for s in number:\n",
    "    n.append(' '.join(s))\n",
    "\n",
    "for t in n:\n",
    "    print(t)"
   ]
  },
  {
   "cell_type": "markdown",
   "metadata": {},
   "source": [
    "<H1>2.</H1>\n",
    "<img src = \"./N_and_M_2.jpg\"> "
   ]
  },
  {
   "cell_type": "code",
   "execution_count": 79,
   "metadata": {},
   "outputs": [
    {
     "name": "stdout",
     "output_type": "stream",
     "text": [
      "4 4\n",
      "1 2 3 4\n"
     ]
    }
   ],
   "source": [
    "from itertools import combinations\n",
    "from itertools import permutations\n",
    "\n",
    "N, M = map(int, input().split(\" \"))\n",
    "\n",
    "num = []\n",
    "n = []\n",
    "\n",
    "for i in range(N+1):\n",
    "    num.append(str(i))\n",
    "    \n",
    "del num[0]\n",
    "\n",
    "number = combinations(num, M)\n",
    "\n",
    "for j in number:\n",
    "    n.append(' '.join(j))\n",
    "\n",
    "for k in n:\n",
    "    print(k)"
   ]
  },
  {
   "cell_type": "markdown",
   "metadata": {},
   "source": [
    "<H1>3.</H1>\n",
    "<img src = \"./N_and_M_3.jpg\"> "
   ]
  },
  {
   "cell_type": "code",
   "execution_count": 18,
   "metadata": {},
   "outputs": [
    {
     "name": "stdout",
     "output_type": "stream",
     "text": [
      "3 3\n",
      "1 1 1\n",
      "1 1 2\n",
      "1 1 3\n",
      "1 2 1\n",
      "1 2 2\n",
      "1 2 3\n",
      "1 3 1\n",
      "1 3 2\n",
      "1 3 3\n",
      "2 1 1\n",
      "2 1 2\n",
      "2 1 3\n",
      "2 2 1\n",
      "2 2 2\n",
      "2 2 3\n",
      "2 3 1\n",
      "2 3 2\n",
      "2 3 3\n",
      "3 1 1\n",
      "3 1 2\n",
      "3 1 3\n",
      "3 2 1\n",
      "3 2 2\n",
      "3 2 3\n",
      "3 3 1\n",
      "3 3 2\n",
      "3 3 3\n"
     ]
    }
   ],
   "source": [
    "from itertools import product\n",
    "N, M = map(int,input().split())\n",
    "pro = product(range(1,N+1),repeat=M)\n",
    "for p in pro:\n",
    "    print(' '.join(map(str,p)))"
   ]
  },
  {
   "cell_type": "code",
   "execution_count": 24,
   "metadata": {},
   "outputs": [
    {
     "name": "stdout",
     "output_type": "stream",
     "text": [
      "3 3\n",
      "1 1 1\n",
      "1 1 2\n",
      "1 1 3\n",
      "1 2 2\n",
      "1 2 3\n",
      "1 3 3\n",
      "2 2 2\n",
      "2 2 3\n",
      "2 3 3\n",
      "3 3 3\n"
     ]
    }
   ],
   "source": [
    "from itertools import combinations\n",
    "from itertools import permutations\n",
    "from itertools import combinations_with_replacement\n",
    "\n",
    "N, M = map(int, input().split(\" \"))\n",
    "\n",
    "num = []\n",
    "number = []\n",
    "n = []\n",
    "\n",
    "for i in range(N+1):\n",
    "    num.append(str(i))\n",
    "    \n",
    "del num[0]\n",
    "\n",
    "for j in list(combinations_with_replacement(num, M)):\n",
    "    number.append(j)\n",
    "\n",
    "for s in number:\n",
    "    n.append(' '.join(s))\n",
    "\n",
    "for t in n:\n",
    "    print(t)"
   ]
  },
  {
   "cell_type": "markdown",
   "metadata": {},
   "source": [
    "<H1>4.</H1>\n",
    "<img src = \"./N_Queen.jpg\"> "
   ]
  },
  {
   "cell_type": "code",
   "execution_count": 11,
   "metadata": {},
   "outputs": [
    {
     "name": "stdout",
     "output_type": "stream",
     "text": [
      "8\n",
      "92\n"
     ]
    }
   ],
   "source": [
    "n = int(input())\n",
    "ans = 0\n",
    "a, b, c = [False]*n, [False]*(2*n-1), [False]*(2*n-1)\n",
    "\n",
    "def solve(i):\n",
    "    global ans\n",
    "    if i == n:\n",
    "        ans += 1\n",
    "        return\n",
    "    for j in range(n):\n",
    "        if not (a[j] or b[i+j] or c[i-j+n-1]):\n",
    "            a[j] = b[i+j] = c[i-j+n-1] = True\n",
    "            solve(i+1)\n",
    "            a[j] = b[i+j] = c[i-j+n-1] = False\n",
    "\n",
    "solve(0)\n",
    "print(ans)"
   ]
  }
 ],
 "metadata": {
  "kernelspec": {
   "display_name": "Python 3",
   "language": "python",
   "name": "python3"
  },
  "language_info": {
   "codemirror_mode": {
    "name": "ipython",
    "version": 3
   },
   "file_extension": ".py",
   "mimetype": "text/x-python",
   "name": "python",
   "nbconvert_exporter": "python",
   "pygments_lexer": "ipython3",
   "version": "3.7.7"
  }
 },
 "nbformat": 4,
 "nbformat_minor": 4
}
